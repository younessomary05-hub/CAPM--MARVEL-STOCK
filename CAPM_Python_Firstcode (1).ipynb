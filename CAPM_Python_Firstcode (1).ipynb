{
 "cells": [
  {
   "cell_type": "code",
   "execution_count": 94,
   "id": "3e97a5ae-81da-4686-866f-7fe81af20a99",
   "metadata": {},
   "outputs": [],
   "source": [
    "import pandas as pd\n",
    "import numpy as np"
   ]
  },
  {
   "cell_type": "code",
   "execution_count": 95,
   "id": "7fd9b521-f890-4a75-b439-52d6ef197d46",
   "metadata": {},
   "outputs": [],
   "source": [
    "#since I could not download the data in certain forms(excel,csv...), I had to install the Yahoo Finance Library for data"
   ]
  },
  {
   "cell_type": "code",
   "execution_count": 96,
   "id": "4eead9c3-e53c-4c3d-99cb-de8996243142",
   "metadata": {},
   "outputs": [
    {
     "name": "stdout",
     "output_type": "stream",
     "text": [
      "Defaulting to user installation because normal site-packages is not writeable\n",
      "Looking in links: /usr/share/pip-wheels\n",
      "Requirement already satisfied: yfinance in /home/5cbbe5b3-251f-4d6d-86f2-0f5273c13d6d/.local/lib/python3.10/site-packages (0.2.66)\n",
      "Requirement already satisfied: pandas>=1.3.0 in /opt/conda/envs/anaconda-2024.02-py310/lib/python3.10/site-packages (from yfinance) (2.1.4)\n",
      "Requirement already satisfied: numpy>=1.16.5 in /opt/conda/envs/anaconda-2024.02-py310/lib/python3.10/site-packages (from yfinance) (1.26.4)\n",
      "Requirement already satisfied: requests>=2.31 in /opt/conda/envs/anaconda-2024.02-py310/lib/python3.10/site-packages (from yfinance) (2.31.0)\n",
      "Requirement already satisfied: multitasking>=0.0.7 in /home/5cbbe5b3-251f-4d6d-86f2-0f5273c13d6d/.local/lib/python3.10/site-packages (from yfinance) (0.0.12)\n",
      "Requirement already satisfied: platformdirs>=2.0.0 in /opt/conda/envs/anaconda-2024.02-py310/lib/python3.10/site-packages (from yfinance) (2.5.2)\n",
      "Requirement already satisfied: pytz>=2022.5 in /opt/conda/envs/anaconda-2024.02-py310/lib/python3.10/site-packages (from yfinance) (2023.3.post1)\n",
      "Requirement already satisfied: frozendict>=2.3.4 in /home/5cbbe5b3-251f-4d6d-86f2-0f5273c13d6d/.local/lib/python3.10/site-packages (from yfinance) (2.4.6)\n",
      "Requirement already satisfied: peewee>=3.16.2 in /home/5cbbe5b3-251f-4d6d-86f2-0f5273c13d6d/.local/lib/python3.10/site-packages (from yfinance) (3.18.2)\n",
      "Requirement already satisfied: beautifulsoup4>=4.11.1 in /opt/conda/envs/anaconda-2024.02-py310/lib/python3.10/site-packages (from yfinance) (4.12.2)\n",
      "Requirement already satisfied: curl_cffi>=0.7 in /home/5cbbe5b3-251f-4d6d-86f2-0f5273c13d6d/.local/lib/python3.10/site-packages (from yfinance) (0.13.0)\n",
      "Requirement already satisfied: protobuf>=3.19.0 in /opt/conda/envs/anaconda-2024.02-py310/lib/python3.10/site-packages (from yfinance) (3.20.3)\n",
      "Requirement already satisfied: websockets>=13.0 in /home/5cbbe5b3-251f-4d6d-86f2-0f5273c13d6d/.local/lib/python3.10/site-packages (from yfinance) (15.0.1)\n",
      "Requirement already satisfied: soupsieve>1.2 in /opt/conda/envs/anaconda-2024.02-py310/lib/python3.10/site-packages (from beautifulsoup4>=4.11.1->yfinance) (2.5)\n",
      "Requirement already satisfied: cffi>=1.12.0 in /opt/conda/envs/anaconda-2024.02-py310/lib/python3.10/site-packages (from curl_cffi>=0.7->yfinance) (1.16.0)\n",
      "Requirement already satisfied: certifi>=2024.2.2 in /opt/conda/envs/anaconda-2024.02-py310/lib/python3.10/site-packages (from curl_cffi>=0.7->yfinance) (2024.2.2)\n",
      "Requirement already satisfied: python-dateutil>=2.8.2 in /opt/conda/envs/anaconda-2024.02-py310/lib/python3.10/site-packages (from pandas>=1.3.0->yfinance) (2.8.2)\n",
      "Requirement already satisfied: tzdata>=2022.1 in /opt/conda/envs/anaconda-2024.02-py310/lib/python3.10/site-packages (from pandas>=1.3.0->yfinance) (2023.3)\n",
      "Requirement already satisfied: charset-normalizer<4,>=2 in /opt/conda/envs/anaconda-2024.02-py310/lib/python3.10/site-packages (from requests>=2.31->yfinance) (2.0.4)\n",
      "Requirement already satisfied: idna<4,>=2.5 in /opt/conda/envs/anaconda-2024.02-py310/lib/python3.10/site-packages (from requests>=2.31->yfinance) (3.4)\n",
      "Requirement already satisfied: urllib3<3,>=1.21.1 in /opt/conda/envs/anaconda-2024.02-py310/lib/python3.10/site-packages (from requests>=2.31->yfinance) (2.0.7)\n",
      "Requirement already satisfied: pycparser in /opt/conda/envs/anaconda-2024.02-py310/lib/python3.10/site-packages (from cffi>=1.12.0->curl_cffi>=0.7->yfinance) (2.21)\n",
      "Requirement already satisfied: six>=1.5 in /opt/conda/envs/anaconda-2024.02-py310/lib/python3.10/site-packages (from python-dateutil>=2.8.2->pandas>=1.3.0->yfinance) (1.16.0)\n",
      "Note: you may need to restart the kernel to use updated packages.\n"
     ]
    }
   ],
   "source": [
    "pip install yfinance"
   ]
  },
  {
   "cell_type": "code",
   "execution_count": 97,
   "id": "968d24e9-62a3-4e76-a15f-fd43970fc60b",
   "metadata": {},
   "outputs": [],
   "source": [
    "import yfinance as yf"
   ]
  },
  {
   "cell_type": "code",
   "execution_count": 98,
   "id": "7dcc0335-d16d-4c10-808b-03614755e063",
   "metadata": {},
   "outputs": [
    {
     "name": "stdout",
     "output_type": "stream",
     "text": [
      "                                Open       High        Low      Close  \\\n",
      "Date                                                                    \n",
      "2024-10-04 00:00:00-04:00  73.477948  74.006206  72.371592  73.168968   \n",
      "2024-10-07 00:00:00-04:00  71.923083  74.215527  71.663935  73.477959   \n",
      "2024-10-08 00:00:00-04:00  72.411461  73.537748  71.574215  72.869949   \n",
      "2024-10-09 00:00:00-04:00  72.590868  73.458007  71.325034  72.600830   \n",
      "2024-10-10 00:00:00-04:00  71.773568  72.640706  71.245309  72.301826   \n",
      "...                              ...        ...        ...        ...   \n",
      "2025-09-26 00:00:00-04:00  82.470001  83.870003  81.540001  83.169998   \n",
      "2025-09-29 00:00:00-04:00  83.690002  85.089996  82.320000  82.389999   \n",
      "2025-09-30 00:00:00-04:00  81.699997  84.430000  81.400002  84.070000   \n",
      "2025-10-01 00:00:00-04:00  82.400002  84.110001  81.349998  83.889999   \n",
      "2025-10-02 00:00:00-04:00  85.070000  87.309998  84.430000  86.199997   \n",
      "\n",
      "                             Volume  Dividends  Stock Splits  \n",
      "Date                                                          \n",
      "2024-10-04 00:00:00-04:00  10249200        0.0           0.0  \n",
      "2024-10-07 00:00:00-04:00   8227200        0.0           0.0  \n",
      "2024-10-08 00:00:00-04:00   9750100        0.0           0.0  \n",
      "2024-10-09 00:00:00-04:00   8105200        0.0           0.0  \n",
      "2024-10-10 00:00:00-04:00   7658400        0.0           0.0  \n",
      "...                             ...        ...           ...  \n",
      "2025-09-26 00:00:00-04:00  26715100        0.0           0.0  \n",
      "2025-09-29 00:00:00-04:00  20468300        0.0           0.0  \n",
      "2025-09-30 00:00:00-04:00  18751700        0.0           0.0  \n",
      "2025-10-01 00:00:00-04:00  20038400        0.0           0.0  \n",
      "2025-10-02 00:00:00-04:00  21698700        0.0           0.0  \n",
      "\n",
      "[249 rows x 7 columns]\n"
     ]
    }
   ],
   "source": [
    "mrvl=yf.Ticker(\"MRVL\")\n",
    "mrvl_data=mrvl.history(start=\"2024-10-04\",end=\"2025-10-03\")\n",
    "print(mrvl_data)"
   ]
  },
  {
   "cell_type": "code",
   "execution_count": 99,
   "id": "5e18e8c0-7817-44d3-bebe-d71856e6696c",
   "metadata": {},
   "outputs": [
    {
     "name": "stdout",
     "output_type": "stream",
     "text": [
      "                               Open      High       Low     Close  Volume  \\\n",
      "Date                                                                        \n",
      "2024-10-07 00:00:00-04:00  20220.00  20267.25  19948.00  19992.75  450371   \n",
      "2024-10-08 00:00:00-04:00  20025.75  20329.50  19902.50  20298.50  444750   \n",
      "2024-10-09 00:00:00-04:00  20294.25  20482.75  20196.00  20463.50  421249   \n",
      "2024-10-10 00:00:00-04:00  20445.25  20508.25  20301.50  20429.75  450569   \n",
      "2024-10-11 00:00:00-04:00  20435.00  20494.25  20314.75  20450.00  385312   \n",
      "...                             ...       ...       ...       ...     ...   \n",
      "2025-09-26 00:00:00-04:00  24642.50  24747.50  24520.00  24726.75  548790   \n",
      "2025-09-29 00:00:00-04:00  24726.50  24975.50  24721.75  24837.75  508361   \n",
      "2025-09-30 00:00:00-04:00  24817.75  24913.75  24722.25  24901.75  513254   \n",
      "2025-10-01 00:00:00-04:00  24843.00  25036.75  24633.25  25017.50  474674   \n",
      "2025-10-02 00:00:00-04:00  25009.25  25180.00  24993.75  25110.00  460294   \n",
      "\n",
      "                           Dividends  Stock Splits  \n",
      "Date                                                \n",
      "2024-10-07 00:00:00-04:00        0.0           0.0  \n",
      "2024-10-08 00:00:00-04:00        0.0           0.0  \n",
      "2024-10-09 00:00:00-04:00        0.0           0.0  \n",
      "2024-10-10 00:00:00-04:00        0.0           0.0  \n",
      "2024-10-11 00:00:00-04:00        0.0           0.0  \n",
      "...                              ...           ...  \n",
      "2025-09-26 00:00:00-04:00        0.0           0.0  \n",
      "2025-09-29 00:00:00-04:00        0.0           0.0  \n",
      "2025-09-30 00:00:00-04:00        0.0           0.0  \n",
      "2025-10-01 00:00:00-04:00        0.0           0.0  \n",
      "2025-10-02 00:00:00-04:00        0.0           0.0  \n",
      "\n",
      "[250 rows x 7 columns]\n"
     ]
    }
   ],
   "source": [
    "nasdaq=yf.Ticker(\"NQ=F\")\n",
    "nq_data=nasdaq.history(start=\"2024-10-07\",end=\"2025-10-03\")\n",
    "print(nq_data)"
   ]
  },
  {
   "cell_type": "code",
   "execution_count": 100,
   "id": "55b13fe0-b72a-4f85-95ff-973b398b598d",
   "metadata": {},
   "outputs": [],
   "source": [
    "mrvl_data['Return'] = mrvl_data['Close'].pct_change()\n",
    "nq_data['Market_Return'] = nq_data['Close'].pct_change()\n",
    "#I calculate the return in a year period of the asset and the Market"
   ]
  },
  {
   "cell_type": "code",
   "execution_count": 86,
   "id": "da2f227a-6677-4301-828e-d6ab565e6c6a",
   "metadata": {},
   "outputs": [
    {
     "data": {
      "text/plain": [
       "1.94"
      ]
     },
     "execution_count": 86,
     "metadata": {},
     "output_type": "execute_result"
    }
   ],
   "source": [
    "beta=mrvl.info.get(\"beta\")\n",
    "beta\n",
    "#to know the volatility of the asset compared to the market we calculate the beta through the covariance and the variance"
   ]
  },
  {
   "cell_type": "code",
   "execution_count": 87,
   "id": "c7b5d137-07a4-4ae3-b7b2-0fd48400c0ef",
   "metadata": {},
   "outputs": [
    {
     "data": {
      "text/plain": [
       "0.42453039532450443"
      ]
     },
     "execution_count": 87,
     "metadata": {},
     "output_type": "execute_result"
    }
   ],
   "source": [
    "mrvl_data['Return'].mean()*252\n",
    "#the annuel asset return"
   ]
  },
  {
   "cell_type": "code",
   "execution_count": 88,
   "id": "930a1b22-fae9-4fb5-babb-a5f8080b862e",
   "metadata": {},
   "outputs": [
    {
     "data": {
      "text/plain": [
       "0.2592087083050431"
      ]
     },
     "execution_count": 88,
     "metadata": {},
     "output_type": "execute_result"
    }
   ],
   "source": [
    "Rm=nq_data['Market_Return'].mean()*252\n",
    "Rm\n",
    "#the annual market return"
   ]
  },
  {
   "cell_type": "code",
   "execution_count": 89,
   "id": "209ba1dc-54ff-4e74-97d0-2eed9055c3e9",
   "metadata": {},
   "outputs": [
    {
     "name": "stdout",
     "output_type": "stream",
     "text": [
      "RF=  0.0411899995803833\n"
     ]
    }
   ],
   "source": [
    "rate=yf.Ticker(\"^TNX\")\n",
    "t_data=rate.history(period=\"1d\")\n",
    "Rf=t_data[\"Close\"].iloc[-1]/100\n",
    "print(\"RF= \",Rf)\n",
    "#Using the US 10Y Treasury Yield as a Benchmark for the 0 risk investement return "
   ]
  },
  {
   "cell_type": "code",
   "execution_count": 90,
   "id": "f0bebfff-8922-4887-b237-64d8004d4dbd",
   "metadata": {},
   "outputs": [
    {
     "name": "stdout",
     "output_type": "stream",
     "text": [
      "The CAPM expected Return  46.41\n"
     ]
    }
   ],
   "source": [
    "#let's calculate the Capital asset pricing model \n",
    "E_R= Rf+beta*(Rm-Rf)\n",
    "print(\"The CAPM expected Return \",round(E_R *100,2))"
   ]
  },
  {
   "cell_type": "code",
   "execution_count": 91,
   "id": "99370209-4367-4a61-a453-020e2d2ffe10",
   "metadata": {},
   "outputs": [],
   "source": [
    "#If the actual return outperform the CAPM thus the stock delivered more return than risk-adjusted expectation"
   ]
  },
  {
   "cell_type": "code",
   "execution_count": null,
   "id": "d152336e-6186-4031-b07a-3b29fe2d006f",
   "metadata": {},
   "outputs": [],
   "source": [
    "#If the actual return underperform the CAPM thus stock underperformed relative to its risk"
   ]
  }
 ],
 "metadata": {
  "kernelspec": {
   "display_name": "anaconda-2024.02-py310",
   "language": "python",
   "name": "conda-env-anaconda-2024.02-py310-py"
  },
  "language_info": {
   "codemirror_mode": {
    "name": "ipython",
    "version": 3
   },
   "file_extension": ".py",
   "mimetype": "text/x-python",
   "name": "python",
   "nbconvert_exporter": "python",
   "pygments_lexer": "ipython3",
   "version": "3.10.14"
  }
 },
 "nbformat": 4,
 "nbformat_minor": 5
}
